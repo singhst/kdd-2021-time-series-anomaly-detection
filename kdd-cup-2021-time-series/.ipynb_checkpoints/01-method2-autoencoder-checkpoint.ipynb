{
 "cells": [
  {
   "cell_type": "markdown",
   "id": "b46c583f",
   "metadata": {},
   "source": [
    "# Method 2 - Autoencoder"
   ]
  },
  {
   "cell_type": "markdown",
   "id": "8ca61c77",
   "metadata": {},
   "source": [
    "# Setup"
   ]
  },
  {
   "cell_type": "code",
   "execution_count": 1,
   "id": "821dc91e",
   "metadata": {
    "ExecuteTime": {
     "end_time": "2021-10-31T08:28:29.895004Z",
     "start_time": "2021-10-31T08:28:28.801756Z"
    }
   },
   "outputs": [],
   "source": [
    "from loadData import DataLoader"
   ]
  },
  {
   "cell_type": "markdown",
   "id": "02827d29",
   "metadata": {},
   "source": [
    "# Loading data"
   ]
  },
  {
   "cell_type": "code",
   "execution_count": 3,
   "id": "6e19d7ff",
   "metadata": {
    "ExecuteTime": {
     "end_time": "2021-10-31T08:30:41.639615Z",
     "start_time": "2021-10-31T08:30:13.508558Z"
    }
   },
   "outputs": [
    {
     "name": "stdout",
     "output_type": "stream",
     "text": [
      ".........................................................................................................................................................................................................................................................."
     ]
    },
    {
     "data": {
      "text/plain": [
       "250"
      ]
     },
     "execution_count": 3,
     "metadata": {},
     "output_type": "execute_result"
    }
   ],
   "source": [
    "path = '../data-sets/KDD-Cup/data/'\n",
    "loader = DataLoader(path)\n",
    "df_datasets = loader.getDataInDfList()\n",
    "\n",
    "# Make sure it loads 250 .txt\n",
    "len(df_datasets)"
   ]
  },
  {
   "cell_type": "code",
   "execution_count": null,
   "id": "515ed62e",
   "metadata": {},
   "outputs": [],
   "source": []
  }
 ],
 "metadata": {
  "kernelspec": {
   "display_name": "Python 3",
   "language": "python",
   "name": "python3"
  },
  "language_info": {
   "codemirror_mode": {
    "name": "ipython",
    "version": 3
   },
   "file_extension": ".py",
   "mimetype": "text/x-python",
   "name": "python",
   "nbconvert_exporter": "python",
   "pygments_lexer": "ipython3",
   "version": "3.8.8"
  },
  "toc": {
   "base_numbering": 1,
   "nav_menu": {},
   "number_sections": true,
   "sideBar": true,
   "skip_h1_title": false,
   "title_cell": "Table of Contents",
   "title_sidebar": "Contents",
   "toc_cell": false,
   "toc_position": {},
   "toc_section_display": true,
   "toc_window_display": true
  },
  "varInspector": {
   "cols": {
    "lenName": 16,
    "lenType": 16,
    "lenVar": 40
   },
   "kernels_config": {
    "python": {
     "delete_cmd_postfix": "",
     "delete_cmd_prefix": "del ",
     "library": "var_list.py",
     "varRefreshCmd": "print(var_dic_list())"
    },
    "r": {
     "delete_cmd_postfix": ") ",
     "delete_cmd_prefix": "rm(",
     "library": "var_list.r",
     "varRefreshCmd": "cat(var_dic_list()) "
    }
   },
   "types_to_exclude": [
    "module",
    "function",
    "builtin_function_or_method",
    "instance",
    "_Feature"
   ],
   "window_display": false
  }
 },
 "nbformat": 4,
 "nbformat_minor": 5
}
